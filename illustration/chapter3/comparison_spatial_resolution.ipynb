{
 "cells": [
  {
   "cell_type": "code",
   "execution_count": 1,
   "metadata": {
    "executionInfo": {
     "elapsed": 3055,
     "status": "ok",
     "timestamp": 1610566186345,
     "user": {
      "displayName": "Takafumi Watanabe",
      "photoUrl": "",
      "userId": "18084451004698881506"
     },
     "user_tz": -540
    },
    "id": "XEOWQv6XzHo4"
   },
   "outputs": [],
   "source": [
    "import numpy as np\n",
    "import matplotlib.pyplot as plt\n",
    "import PIL.Image as Image\n",
    "import math"
   ]
  },
  {
   "cell_type": "code",
   "execution_count": 4,
   "metadata": {
    "colab": {
     "base_uri": "https://localhost:8080/"
    },
    "executionInfo": {
     "elapsed": 1846,
     "status": "ok",
     "timestamp": 1610566189366,
     "user": {
      "displayName": "Takafumi Watanabe",
      "photoUrl": "",
      "userId": "18084451004698881506"
     },
     "user_tz": -540
    },
    "id": "Ho7B5EoP0sO5",
    "outputId": "63a520de-fd55-4043-9945-ae4f73f30c6b"
   },
   "outputs": [
    {
     "name": "stdout",
     "output_type": "stream",
     "text": [
      "exit_radius : 0.028900860897701938\n",
      "ring_radius : 0.028537516616092457\n",
      "seam_radius : 0.030000000000022727\n",
      "entrance_radius : 0.030381921069158307\n",
      "ring_thickness : 0.00036334428160948035\n",
      "29.99963665571839\n"
     ]
    }
   ],
   "source": [
    "wavelength = 632.8e-9\n",
    "k = 2.0 * math.pi / wavelength\n",
    "\n",
    "a = 1000.05624604543e-3\n",
    "b = 10.6068254211646e-3\n",
    "\n",
    "f1 = 0.0\n",
    "f2 = f1 + 2.0 * math.hypot(a, b)\n",
    "\n",
    "# parabola part\n",
    "p = 0.0562460454334836e-3\n",
    "\n",
    "# whole mirror\n",
    "WD = 1902.50110774383e-3\n",
    "ML = 200.0e-3\n",
    "\n",
    "# 接合点を求める2次方程式\n",
    "param1 = a**-2\n",
    "param2 = -(f1 + f2) / a**2 + 4 * p / b**2\n",
    "param3 = (f1 + f2)**2 / (4 * a**2) - 4 * p * (p + f2) / b**2 - 1.0\n",
    "seam = (-param2 - math.sqrt(param2**2 - 4.0 * param1 * param3)) / (2.0 * param1)\n",
    "\n",
    "# xy plane params\n",
    "entrance_radius = math.sqrt(-4 * p * (f1 - WD - ML - p - f2))\n",
    "seam_radius = math.sqrt(-4 * p * (seam - p - f2))\n",
    "exit_radius = b * math.sqrt((f1 - WD - (f1 + f2) / 2)**2 / a**2 - 1.0)\n",
    "ring_radius = seam_radius * WD / (f1 - seam)\n",
    "\n",
    "ring_thickness = exit_radius - ring_radius\n",
    "\n",
    "# equipment params\n",
    "ccd_num = 4096\n",
    "\n",
    "def print_param(x):\n",
    "    print(x, ':', eval(x))\n",
    "\n",
    "print_param('exit_radius')\n",
    "print_param('ring_radius')\n",
    "print_param('seam_radius')\n",
    "print_param('entrance_radius')\n",
    "print_param('ring_thickness')\n",
    "print(30.0 - (exit_radius - ring_radius))"
   ]
  },
  {
   "cell_type": "code",
   "execution_count": 13,
   "metadata": {},
   "outputs": [],
   "source": [
    "ccd_pitch = 9.0e-6\n",
    "detector_length = ccd_pitch * ccd_num"
   ]
  },
  {
   "cell_type": "code",
   "execution_count": 14,
   "metadata": {},
   "outputs": [
    {
     "name": "stdout",
     "output_type": "stream",
     "text": [
      "exit_pixel_size : 3.265795087294639e-05\n",
      "ring_thickness / exit_pixel_size : 11.125752593083607\n"
     ]
    }
   ],
   "source": [
    "# 焦点面にカメラを置く方法\n",
    "\n",
    "exit_pixel_size = wavelength * WD / detector_length\n",
    "print_param('exit_pixel_size')\n",
    "print_param('ring_thickness / exit_pixel_size')"
   ]
  },
  {
   "cell_type": "code",
   "execution_count": 37,
   "metadata": {},
   "outputs": [
    {
     "name": "stdout",
     "output_type": "stream",
     "text": [
      "focus_length : 0.036864\n",
      "least_N : 1769.9126935513398\n",
      "focus_pixel_size : 2.0828146006474575e-05\n",
      "CD : 1.2133514133733863\n",
      "scan_step : 8e-05\n",
      "scan_num : 212336.63999999996\n"
     ]
    }
   ],
   "source": [
    "# 焦点面にオブジェクトを置く方法\n",
    "\n",
    "focus_length = detector_length # 焦点面にカメラを置く方法に合わせる\n",
    "least_N = 2.0 * exit_radius / exit_pixel_size\n",
    "#CD = focus_length * ccd_pitch / wavelength\n",
    "\n",
    "\n",
    "\n",
    "# CCDが明視野に覆われる最小のカメラ長\n",
    "CD = (0.5 * detector_length) / exit_radius * WD\n",
    "\n",
    "#sin_theta = 1.22 * wavelength / pinhole_diameter\n",
    "#CD * tan(asin(1.22 * wavelength / pinhole_diameter)) = 0.5 * detector_length\n",
    "#asin(1.22 * wavelength / pinhole_diameter) = atan(0.5 * detector_length / CD)\n",
    "#asin(1.22 * wavelength / pinhole_diameter) = atan(0.5 * detector_length / CD)\n",
    "#1.22 * wavelength / pinhole_diameter = sin(atan(0.5 * detector_length / CD))\n",
    "#ccd_pitch / CD = 1.22 * wavelength * \n",
    "\n",
    "#max_focus_pixel_size = WD * wavelength / (2.0 * exit_radius)\n",
    "#max_focus_pixel_size = CD * wavelength / detector_length\n",
    "#CD = max_focus_pixel_size * detector_length / wavelength\n",
    "\n",
    "#pinhole_diameter = 1.0e-3\n",
    "pinhole_diameter = 0.2e-3\n",
    "oversampling_ratio = 0.6\n",
    "scan_step = pinhole_diameter * (1.0 - oversampling_ratio)\n",
    "\n",
    "scan_num = (focus_length / scan_step) ** 2\n",
    "\n",
    "print_param('focus_length')\n",
    "print_param('least_N')\n",
    "print_param('focus_pixel_size')\n",
    "print_param('CD')\n",
    "print_param('scan_step')\n",
    "print_param('scan_num')"
   ]
  }
 ],
 "metadata": {
  "accelerator": "GPU",
  "colab": {
   "collapsed_sections": [],
   "name": "thinring_transverse",
   "provenance": [
    {
     "file_id": "1s-7gbP2KICl4AkmfQ_twXQKNXjPdulbO",
     "timestamp": 1601987145006
    }
   ]
  },
  "kernelspec": {
   "display_name": "Python 3",
   "language": "python",
   "name": "python3"
  },
  "language_info": {
   "codemirror_mode": {
    "name": "ipython",
    "version": 3
   },
   "file_extension": ".py",
   "mimetype": "text/x-python",
   "name": "python",
   "nbconvert_exporter": "python",
   "pygments_lexer": "ipython3",
   "version": "3.8.6"
  }
 },
 "nbformat": 4,
 "nbformat_minor": 4
}
