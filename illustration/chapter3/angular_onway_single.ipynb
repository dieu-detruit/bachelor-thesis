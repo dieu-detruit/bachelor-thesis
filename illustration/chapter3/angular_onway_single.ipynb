{
 "cells": [
  {
   "cell_type": "code",
   "execution_count": 1,
   "metadata": {
    "executionInfo": {
     "elapsed": 3055,
     "status": "ok",
     "timestamp": 1610566186345,
     "user": {
      "displayName": "Takafumi Watanabe",
      "photoUrl": "",
      "userId": "18084451004698881506"
     },
     "user_tz": -540
    },
    "id": "XEOWQv6XzHo4"
   },
   "outputs": [],
   "source": [
    "import cupy as cp\n",
    "import matplotlib.pyplot as plt\n",
    "import math"
   ]
  },
  {
   "cell_type": "code",
   "execution_count": 2,
   "metadata": {
    "executionInfo": {
     "elapsed": 3052,
     "status": "ok",
     "timestamp": 1610566186346,
     "user": {
      "displayName": "Takafumi Watanabe",
      "photoUrl": "",
      "userId": "18084451004698881506"
     },
     "user_tz": -540
    },
    "id": "pj3NoSCM00t9"
   },
   "outputs": [],
   "source": [
    "def fraunhofer(src, z):\n",
    "    if z > 0:\n",
    "        return cp.fft.fftshift(cp.fft.fft2(cp.fft.fftshift(src)))\n",
    "    else:\n",
    "        return cp.fft.ifftshift(cp.fft.ifft2(cp.fft.ifftshift(src)))"
   ]
  },
  {
   "cell_type": "code",
   "execution_count": 4,
   "metadata": {
    "executionInfo": {
     "elapsed": 3051,
     "status": "ok",
     "timestamp": 1610566186348,
     "user": {
      "displayName": "Takafumi Watanabe",
      "photoUrl": "",
      "userId": "18084451004698881506"
     },
     "user_tz": -540
    },
    "id": "k_0gd9jo0yad"
   },
   "outputs": [],
   "source": [
    "def angular(src, dx, wavelength, z):\n",
    "\n",
    "    ysize, xsize = src.shape\n",
    "\n",
    "    src_expanded = cp.zeros((2 * xsize, 2 * ysize), dtype=cp.complex)\n",
    "    src_expanded[(xsize//2):(3*xsize//2), (ysize//2):(3*ysize//2)] = src\n",
    "\n",
    "    u = cp.fft.fftfreq(2 * xsize, dx / 2)\n",
    "    v = cp.fft.fftfreq(2 * ysize, dx / 2)\n",
    "    u, v = cp.meshgrid(u, v)\n",
    "\n",
    "    # antialias filter\n",
    "    du = 1.0 / (dx * xsize)\n",
    "    dv = 1.0 / (dx * ysize)\n",
    "    u_limit = 1.0 / math.sqrt(1 + (2 * du * z)**2) / wavelength\n",
    "    v_limit = 1.0 / math.sqrt(1 + (2 * dv * z)**2) / wavelength\n",
    "    bandlimit = (cp.abs(u) < u_limit) & (cp.abs(v) < v_limit)\n",
    "\n",
    "    uv_sq = u ** 2 + v ** 2\n",
    "    not_evanescent = (1.0 / wavelength**2 > uv_sq)\n",
    "\n",
    "    mask = not_evanescent & bandlimit\n",
    "\n",
    "    g = cp.zeros((2 * xsize, 2 * ysize), dtype = cp.complex)\n",
    "    g[mask] = cp.exp(1.0j * cp.sqrt(1.0 / wavelength**2 - uv_sq[mask]) * z)\n",
    "\n",
    "    return cp.fft.ifft2(g * cp.fft.fft2(src_expanded))[(xsize//2):(3*xsize//2), (ysize//2):(3*ysize//2)]"
   ]
  },
  {
   "cell_type": "code",
   "execution_count": 6,
   "metadata": {
    "colab": {
     "base_uri": "https://localhost:8080/"
    },
    "executionInfo": {
     "elapsed": 1846,
     "status": "ok",
     "timestamp": 1610566189366,
     "user": {
      "displayName": "Takafumi Watanabe",
      "photoUrl": "",
      "userId": "18084451004698881506"
     },
     "user_tz": -540
    },
    "id": "Ho7B5EoP0sO5",
    "outputId": "63a520de-fd55-4043-9945-ae4f73f30c6b"
   },
   "outputs": [
    {
     "name": "stdout",
     "output_type": "stream",
     "text": [
      "exit_radius : 0.028900860897701938\n",
      "ring_radius : 0.028537516616092457\n",
      "seam_radius : 0.030000000000022727\n",
      "entrance_radius : 0.030381921069158307\n",
      "ring_thickness : 0.00036334428160948035\n",
      "29.99963665571839\n"
     ]
    }
   ],
   "source": [
    "wavelength = 632.8e-9\n",
    "k = 2.0 * math.pi / wavelength\n",
    "\n",
    "a = 1000.05624604543e-3\n",
    "b = 10.6068254211646e-3\n",
    "\n",
    "f1 = 0.0\n",
    "f2 = f1 + 2.0 * math.hypot(a, b)\n",
    "\n",
    "# parabola part\n",
    "p = 0.0562460454334836e-3\n",
    "\n",
    "# whole mirror\n",
    "WD = 1902.50110774383e-3\n",
    "ML = 200.0e-3\n",
    "\n",
    "# 接合点を求める2次方程式\n",
    "param1 = a**-2\n",
    "param2 = -(f1 + f2) / a**2 + 4 * p / b**2\n",
    "param3 = (f1 + f2)**2 / (4 * a**2) - 4 * p * (p + f2) / b**2 - 1.0\n",
    "seam = (-param2 - math.sqrt(param2**2 - 4.0 * param1 * param3)) / (2.0 * param1)\n",
    "\n",
    "# xy plane params\n",
    "entrance_radius = math.sqrt(-4 * p * (f1 - WD - ML - p - f2))\n",
    "seam_radius = math.sqrt(-4 * p * (seam - p - f2))\n",
    "exit_radius = b * math.sqrt((f1 - WD - (f1 + f2) / 2)**2 / a**2 - 1.0)\n",
    "ring_radius = seam_radius * WD / (f1 - seam)\n",
    "\n",
    "ring_thickness = exit_radius - ring_radius\n",
    "\n",
    "# equipment params\n",
    "ccd_num = 4096\n",
    "\n",
    "\n",
    "def print_param(x):\n",
    "    print(x, ':', eval(x))\n",
    "\n",
    "\n",
    "print_param('exit_radius')\n",
    "print_param('ring_radius')\n",
    "print_param('seam_radius')\n",
    "print_param('entrance_radius')\n",
    "print_param('ring_thickness')\n",
    "print(30.0 - (exit_radius - ring_radius))"
   ]
  },
  {
   "cell_type": "code",
   "execution_count": 26,
   "metadata": {
    "colab": {
     "base_uri": "https://localhost:8080/"
    },
    "executionInfo": {
     "elapsed": 553,
     "status": "ok",
     "timestamp": 1610566340958,
     "user": {
      "displayName": "Takafumi Watanabe",
      "photoUrl": "",
      "userId": "18084451004698881506"
     },
     "user_tz": -540
    },
    "id": "WS7SZlkNyBly",
    "outputId": "47ffb41b-f8ab-4884-d94a-a786ca1a4fa8"
   },
   "outputs": [
    {
     "name": "stdout",
     "output_type": "stream",
     "text": [
      "CD : 1.90250110774383\n",
      "exit_length : 0.06358189397494426\n",
      "focus_pixel_size : 1.8934678187704158e-05\n",
      "focus_length : 0.038778220928418115\n"
     ]
    }
   ],
   "source": [
    "N = 2048\n",
    "\n",
    "CD = WD\n",
    "exit_length = 1.1 * 2.0 * exit_radius\n",
    "focus_pixel_size = wavelength * CD / exit_length\n",
    "focus_length = N * focus_pixel_size\n",
    "\n",
    "print_param('CD')\n",
    "print_param('exit_length')\n",
    "print_param('focus_pixel_size')\n",
    "print_param('focus_length')"
   ]
  },
  {
   "cell_type": "code",
   "execution_count": 27,
   "metadata": {
    "colab": {
     "base_uri": "https://localhost:8080/"
    },
    "executionInfo": {
     "elapsed": 618,
     "status": "ok",
     "timestamp": 1610566341716,
     "user": {
      "displayName": "Takafumi Watanabe",
      "photoUrl": "",
      "userId": "18084451004698881506"
     },
     "user_tz": -540
    },
    "id": "P99-BqbqJEL8",
    "outputId": "fbbca352-72b8-4deb-b9cf-d0c78f099736"
   },
   "outputs": [
    {
     "name": "stdout",
     "output_type": "stream",
     "text": [
      "pinhole_rev_radius : 0.02863\n",
      "pinhole_radius : 0.001125\n"
     ]
    }
   ],
   "source": [
    "pinhole_rev_radius = 57.26e-3 / 2\n",
    "pinhole_radius = 2.25e-3 / 2\n",
    "\n",
    "step_deg = 0.004 * 337\n",
    "step_rad = step_deg / 180 * math.pi\n",
    "#scan_num = 268\n",
    "scan_num = 134\n",
    "\n",
    "pinhole_margin = 0.0\n",
    "pinhole_thickness = 0.0\n",
    "\n",
    "print_param('pinhole_rev_radius')\n",
    "print_param('pinhole_radius')"
   ]
  },
  {
   "cell_type": "code",
   "execution_count": 28,
   "metadata": {
    "id": "wYCSl-ErthMH"
   },
   "outputs": [],
   "source": [
    "def isIcpinhole(x, y, theta):\n",
    "    return cp.hypot(x - pinhole_rev_radius * math.cos(theta), y - pinhole_rev_radius * math.sin(theta)) < pinhole_radius\n",
    "\n",
    "\n",
    "def getSinglePinholeMask(rot_theta):\n",
    "    x = cp.linspace(-0.5 * exit_length, 0.5 * exit_length, N)\n",
    "    y = x.copy()\n",
    "    x, y = cp.meshgrid(x, y)\n",
    "\n",
    "    hole0 = isIcpinhole(x, y, rot_theta)\n",
    "\n",
    "    return hole0\n",
    "\n",
    "\n",
    "def getPinholeMask(rot_theta):\n",
    "    x = cp.linspace(-0.5 * exit_length, 0.5 * exit_length, N)\n",
    "    y = x.copy()\n",
    "    x, y = cp.meshgrid(x, y)\n",
    "\n",
    "    hole0 = isIcpinhole(x, y, rot_theta)\n",
    "    hole1 = isIcpinhole(x, y, rot_theta + 0.25 * math.pi)\n",
    "    hole2 = isIcpinhole(x, y, rot_theta + math.pi)\n",
    "\n",
    "    return hole0 | hole1 | hole2"
   ]
  },
  {
   "cell_type": "code",
   "execution_count": 29,
   "metadata": {
    "id": "1O6XY4lJtToD"
   },
   "outputs": [],
   "source": [
    "def showImg(array):\n",
    "    plt.imshow(cp.asnumpy(array), origin='lower')"
   ]
  },
  {
   "cell_type": "code",
   "execution_count": 30,
   "metadata": {},
   "outputs": [
    {
     "data": {
      "image/png": "[encoded data removed]",
      "text/plain": [
       "<Figure size 360x360 with 1 Axes>"
      ]
     },
     "metadata": {
      "needs_background": "light"
     },
     "output_type": "display_data"
    }
   ],
   "source": [
    "plt.figure(figsize=(5, 5))\n",
    "showImg(getPinholeMask(0.0))"
   ]
  },
  {
   "cell_type": "code",
   "execution_count": 31,
   "metadata": {
    "colab": {
     "base_uri": "https://localhost:8080/",
     "height": 336
    },
    "executionInfo": {
     "elapsed": 16802,
     "status": "ok",
     "timestamp": 1609163871649,
     "user": {
      "displayName": "Takafumi Watanabe",
      "photoUrl": "",
      "userId": "18084451004698881506"
     },
     "user_tz": -540
    },
    "id": "AfrxaRSw0vEV",
    "outputId": "58140681-0c45-4eb5-ae56-cc4a43f24c72"
   },
   "outputs": [
    {
     "data": {
      "image/png": "[encoded data removed]",
      "text/plain": [
       "<Figure size 576x576 with 1 Axes>"
      ]
     },
     "metadata": {
      "needs_background": "light"
     },
     "output_type": "display_data"
    }
   ],
   "source": [
    "x = cp.linspace(-0.5 * exit_length, 0.5 * exit_length, N)\n",
    "y = x.copy()\n",
    "x, y = cp.meshgrid(x, y)\n",
    "\n",
    "r = cp.hypot(x, y)\n",
    "theta = cp.arctan2(y, x)\n",
    "\n",
    "ring = cp.zeros((N, N), dtype=cp.complex)\n",
    "on_ring = (ring_radius <= r) & (r <= exit_radius)\n",
    "ring[on_ring] = 1.0\n",
    "\n",
    "plt.figure(figsize=(8, 8))\n",
    "plt.title(\"Exit Ring\")\n",
    "showImg(cp.abs(ring)**2)"
   ]
  },
  {
   "cell_type": "code",
   "execution_count": 32,
   "metadata": {},
   "outputs": [],
   "source": [
    "pinhole_out = ring * getSinglePinholeMask(0.0)\n",
    "pinhole_focus = fraunhofer(pinhole_out, CD)"
   ]
  },
  {
   "cell_type": "code",
   "execution_count": 47,
   "metadata": {},
   "outputs": [
    {
     "data": {
      "image/png": "[encoded data removed]",
      "text/plain": [
       "<Figure size 576x576 with 1 Axes>"
      ]
     },
     "metadata": {
      "needs_background": "light"
     },
     "output_type": "display_data"
    }
   ],
   "source": [
    "#defocus = -644.936e-3\n",
    "defocus = -644e-3\n",
    "pinhole_defocus = angular(pinhole_focus, focus_pixel_size, wavelength, defocus)\n",
    "\n",
    "fig = plt.figure(figsize=(8, 8))\n",
    "plt.axis('off')\n",
    "plt.subplots_adjust(left=0, right=1, bottom=0, top=1)\n",
    "\n",
    "showImg(cp.abs(pinhole_defocus)**2)\n",
    "fig.savefig('../../thesis/chap3/figure/single_pinhole_defocus.png')"
   ]
  },
  {
   "cell_type": "code",
   "execution_count": 49,
   "metadata": {},
   "outputs": [
    {
     "name": "stdout",
     "output_type": "stream",
     "text": [
      "0.02563134159309343\n"
     ]
    }
   ],
   "source": [
    "print(N * (WD - 645e-3) * wavelength / exit_length)"
   ]
  },
  {
   "cell_type": "code",
   "execution_count": null,
   "metadata": {},
   "outputs": [],
   "source": []
  }
 ],
 "metadata": {
  "accelerator": "GPU",
  "colab": {
   "collapsed_sections": [],
   "name": "thinring_transverse",
   "provenance": [
    {
     "file_id": "1s-7gbP2KICl4AkmfQ_twXQKNXjPdulbO",
     "timestamp": 1601987145006
    }
   ]
  },
  "kernelspec": {
   "display_name": "Python 3",
   "language": "python",
   "name": "python3"
  },
  "language_info": {
   "codemirror_mode": {
    "name": "ipython",
    "version": 3
   },
   "file_extension": ".py",
   "mimetype": "text/x-python",
   "name": "python",
   "nbconvert_exporter": "python",
   "pygments_lexer": "ipython3",
   "version": "3.8.6"
  }
 },
 "nbformat": 4,
 "nbformat_minor": 4
}
