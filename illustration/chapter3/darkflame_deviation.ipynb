{
 "cells": [
  {
   "cell_type": "code",
   "execution_count": 4,
   "metadata": {},
   "outputs": [],
   "source": [
    "import numpy as np\n",
    "import matplotlib.pyplot as plt\n",
    "import math"
   ]
  },
  {
   "cell_type": "code",
   "execution_count": 5,
   "metadata": {},
   "outputs": [],
   "source": [
    "import glob\n",
    "\n",
    "darkflame_files = glob.glob('../../data/darkflame_noise/*.dat')\n"
   ]
  },
  {
   "cell_type": "code",
   "execution_count": 15,
   "metadata": {},
   "outputs": [],
   "source": [
    "darkflames = [np.fromfile(darkflame_file, dtype=np.uint16) for darkflame_file in darkflame_files]\n",
    "N = int(math.sqrt(darkflames[0].shape[0]))\n",
    "darkflame_num = len(darkflames)\n",
    "darkflames = np.array([df.reshape((N, N)) for df in darkflames])"
   ]
  },
  {
   "cell_type": "code",
   "execution_count": 17,
   "metadata": {},
   "outputs": [
    {
     "data": {
      "text/plain": [
       "(2048, 2048)"
      ]
     },
     "execution_count": 17,
     "metadata": {},
     "output_type": "execute_result"
    }
   ],
   "source": [
    "average = np.sum(darkflames, axis=0) / darkflame_num\n",
    "average.shape"
   ]
  },
  {
   "cell_type": "code",
   "execution_count": 42,
   "metadata": {},
   "outputs": [
    {
     "name": "stdout",
     "output_type": "stream",
     "text": [
      "62444.26666666667\n",
      "1113.4498844623567\n",
      "1063.6\n",
      "3697.499572770759\n",
      "60.80706844414356\n"
     ]
    }
   ],
   "source": [
    "print(np.max(average))\n",
    "print(np.mean(average))\n",
    "print(np.min(average))\n",
    "average_mean = np.mean(average)\n",
    "average_variance = np.mean((average - average_mean)**2)\n",
    "average_deviation = math.sqrt(average_variance)\n",
    "print(average_variance)\n",
    "print(average_deviation)"
   ]
  },
  {
   "cell_type": "code",
   "execution_count": 23,
   "metadata": {},
   "outputs": [],
   "source": [
    "deviation = np.sqrt(variance)"
   ]
  },
  {
   "cell_type": "code",
   "execution_count": 27,
   "metadata": {},
   "outputs": [
    {
     "name": "stdout",
     "output_type": "stream",
     "text": [
      "11777.703754694006\n",
      "59.88418055358719\n",
      "15.866106432686419\n"
     ]
    }
   ],
   "source": [
    "print(np.max(deviation))\n",
    "print(np.mean(deviation))\n",
    "print(np.min(deviation))"
   ]
  },
  {
   "cell_type": "code",
   "execution_count": 33,
   "metadata": {},
   "outputs": [
    {
     "data": {
      "text/plain": [
       "(array([4.194257e+06, 2.900000e+01, 1.100000e+01, 4.000000e+00,\n",
       "        1.000000e+00, 1.000000e+00, 0.000000e+00, 0.000000e+00,\n",
       "        0.000000e+00, 1.000000e+00]),\n",
       " array([   15.86610643,  1192.04987126,  2368.23363608,  3544.41740091,\n",
       "         4720.60116574,  5896.78493056,  7072.96869539,  8249.15246022,\n",
       "         9425.33622504, 10601.51998987, 11777.70375469]),\n",
       " <BarContainer object of 10 artists>)"
      ]
     },
     "execution_count": 33,
     "metadata": {},
     "output_type": "execute_result"
    },
    {
     "data": {
      "image/png": "[encoded data removed]",
      "text/plain": [
       "<Figure size 432x288 with 1 Axes>"
      ]
     },
     "metadata": {
      "needs_background": "light"
     },
     "output_type": "display_data"
    }
   ],
   "source": [
    "plt.hist(deviation.ravel(), bins=10)"
   ]
  },
  {
   "cell_type": "code",
   "execution_count": 37,
   "metadata": {},
   "outputs": [
    {
     "data": {
      "text/plain": [
       "(array([4.194272e+06, 2.200000e+01, 5.000000e+00, 0.000000e+00,\n",
       "        1.000000e+00, 1.000000e+00, 0.000000e+00, 2.000000e+00,\n",
       "        0.000000e+00, 1.000000e+00]),\n",
       " array([ 1063.6       ,  7201.66666667, 13339.73333333, 19477.8       ,\n",
       "        25615.86666667, 31753.93333333, 37892.        , 44030.06666667,\n",
       "        50168.13333333, 56306.2       , 62444.26666667]),\n",
       " <BarContainer object of 10 artists>)"
      ]
     },
     "execution_count": 37,
     "metadata": {},
     "output_type": "execute_result"
    },
    {
     "data": {
      "image/png": "[encoded data removed]",
      "text/plain": [
       "<Figure size 432x288 with 1 Axes>"
      ]
     },
     "metadata": {
      "needs_background": "light"
     },
     "output_type": "display_data"
    }
   ],
   "source": [
    "plt.hist(average.ravel(), bins=10)"
   ]
  },
  {
   "cell_type": "code",
   "execution_count": null,
   "metadata": {},
   "outputs": [],
   "source": []
  }
 ],
 "metadata": {
  "kernelspec": {
   "display_name": "Python 3",
   "language": "python",
   "name": "python3"
  },
  "language_info": {
   "codemirror_mode": {
    "name": "ipython",
    "version": 3
   },
   "file_extension": ".py",
   "mimetype": "text/x-python",
   "name": "python",
   "nbconvert_exporter": "python",
   "pygments_lexer": "ipython3",
   "version": "3.9.1"
  }
 },
 "nbformat": 4,
 "nbformat_minor": 4
}
