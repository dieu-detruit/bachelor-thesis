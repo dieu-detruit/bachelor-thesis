{
 "cells": [
  {
   "cell_type": "code",
   "execution_count": 10,
   "metadata": {},
   "outputs": [],
   "source": [
    "import math\n",
    "\n",
    "a = 1000.05624604543e-3\n",
    "b = 10.6068254211646e-3\n",
    "\n",
    "f1 = 0.0e-3\n",
    "f2 = f1 + 2.0 * math.sqrt(a * a + b * b)\n",
    "\n",
    "# parabola part\n",
    "p = 0.0562460454334836e-3\n",
    "\n",
    "# whole mirror\n",
    "WD = 1902.50110774383e-3\n",
    "ML = 200.0e-3\n",
    "\n",
    "param1 = 1.0 / (a * a)\n",
    "param2 = -(f1 + f2) / (a * a) + 4.0 * p / (b * b)\n",
    "param3 = math.pow(f1 + f2, 2) / (4.0 * a * a) - 4.0 * p * (p + f2) / (b * b) - 1.0\n",
    "seam = (-param2 - math.sqrt(param2**2 - 4.0 * param1 * param3)) / (2.0 * param1)\n",
    "\n",
    "def parabola(z):\n",
    "    return math.sqrt(-4.0 * p * (z - p - f2))\n",
    "def hyperbola(z):\n",
    "    return b * math.sqrt((z - (f1 + f2) / 2)**2 / a**2 - 1.0)\n",
    "\n",
    "entrance_radius = parabola(f1 - WD - ML)\n",
    "seam_radius = parabola(seam)\n",
    "exit_radius = hyperbola(f1 - WD)\n",
    "ring_radius = seam_radius * WD / (f1 - seam)"
   ]
  },
  {
   "cell_type": "code",
   "execution_count": 48,
   "metadata": {},
   "outputs": [
    {
     "name": "stdout",
     "output_type": "stream",
     "text": [
      "exit_radius: 0.028900860897701938\n",
      "max_dist: 0.045447159577467144\n",
      "detect_length: 0.0234\n",
      "cond_val: 0.7689102262132029\n"
     ]
    }
   ],
   "source": [
    "wavelength = 632.8e-9\n",
    "ccd_pitch = 9.0e-6\n",
    "ccd_num = 4096\n",
    "trim_size = 1300 * 2\n",
    "detect_length = ccd_pitch * trim_size\n",
    "\n",
    "max_dist = exit_radius + detect_length / math.sqrt(2)\n",
    "cond_val = math.pi / (4.0 * wavelength) * max_dist**4 / WD**3\n",
    "\n",
    "def print_param(symbol):\n",
    "    print(symbol + ':', eval(symbol))\n",
    "\n",
    "print_param('exit_radius')\n",
    "print_param('max_dist')\n",
    "print_param('detect_length')\n",
    "print_param('cond_val')"
   ]
  },
  {
   "cell_type": "code",
   "execution_count": 29,
   "metadata": {},
   "outputs": [
    {
     "data": {
      "text/plain": [
       "1.0131374377871119e-07"
      ]
     },
     "execution_count": 29,
     "metadata": {},
     "output_type": "execute_result"
    }
   ],
   "source": [
    "exit_radius**4 / WD**3"
   ]
  },
  {
   "cell_type": "code",
   "execution_count": 30,
   "metadata": {},
   "outputs": [
    {
     "data": {
      "text/plain": [
       "197534.7661188369"
      ]
     },
     "execution_count": 30,
     "metadata": {},
     "output_type": "execute_result"
    }
   ],
   "source": [
    "1.0 / 8 / wavelength"
   ]
  },
  {
   "cell_type": "code",
   "execution_count": 31,
   "metadata": {},
   "outputs": [
    {
     "data": {
      "text/plain": [
       "1241147.540135032"
      ]
     },
     "execution_count": 31,
     "metadata": {},
     "output_type": "execute_result"
    }
   ],
   "source": [
    "math.pi / 4 / wavelength"
   ]
  },
  {
   "cell_type": "code",
   "execution_count": 50,
   "metadata": {},
   "outputs": [
    {
     "name": "stdout",
     "output_type": "stream",
     "text": [
      "ring_pixels: 228392\n",
      "ring_pixels / N**2: 0.013613224029541016\n"
     ]
    }
   ],
   "source": [
    "import numpy as np\n",
    "\n",
    "exit_length = 1.2 * 2.0 * exit_radius\n",
    "N = 4096\n",
    "x = np.linspace(-0.5 * exit_length, 0.5 * exit_length, N)\n",
    "y = x.copy()\n",
    "x, y = np.meshgrid(x, y)\n",
    "r = np.hypot(x, y)\n",
    "\n",
    "ring_pixels = np.sum((ring_radius <= r) & (r <= exit_radius))\n",
    "print_param('ring_pixels')\n",
    "print_param('ring_pixels / N**2')"
   ]
  },
  {
   "cell_type": "code",
   "execution_count": null,
   "metadata": {},
   "outputs": [],
   "source": []
  }
 ],
 "metadata": {
  "kernelspec": {
   "display_name": "Python 3",
   "language": "python",
   "name": "python3"
  },
  "language_info": {
   "codemirror_mode": {
    "name": "ipython",
    "version": 3
   },
   "file_extension": ".py",
   "mimetype": "text/x-python",
   "name": "python",
   "nbconvert_exporter": "python",
   "pygments_lexer": "ipython3",
   "version": "3.9.1"
  }
 },
 "nbformat": 4,
 "nbformat_minor": 4
}
