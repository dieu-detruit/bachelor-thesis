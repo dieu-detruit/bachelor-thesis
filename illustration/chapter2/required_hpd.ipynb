{
 "cells": [
  {
   "cell_type": "code",
   "execution_count": 1,
   "metadata": {},
   "outputs": [],
   "source": [
    "import math\n",
    "\n",
    "a = 1000.05624604543e-3\n",
    "b = 10.6068254211646e-3\n",
    "\n",
    "f1 = 0.0e-3\n",
    "f2 = f1 + 2.0 * math.sqrt(a * a + b * b)\n",
    "\n",
    "# parabola part\n",
    "p = 0.0562460454334836e-3\n",
    "\n",
    "# whole mirror\n",
    "WD = 1902.50110774383e-3\n",
    "ML = 200.0e-3\n",
    "\n",
    "param1 = 1.0 / (a * a)\n",
    "param2 = -(f1 + f2) / (a * a) + 4.0 * p / (b * b)\n",
    "param3 = math.pow(f1 + f2, 2) / (4.0 * a * a) - 4.0 * p * (p + f2) / (b * b) - 1.0\n",
    "seam = (-param2 - math.sqrt(param2**2 - 4.0 * param1 * param3)) / (2.0 * param1)\n",
    "\n",
    "def parabola(z):\n",
    "    return math.sqrt(-4.0 * p * (z - p - f2))\n",
    "def hyperbola(z):\n",
    "    return b * math.sqrt((z - (f1 + f2) / 2)**2 / a**2 - 1.0)\n",
    "\n",
    "entrance_radius = parabola(f1 - WD - ML)\n",
    "seam_radius = parabola(seam)\n",
    "exit_radius = hyperbola(f1 - WD)\n",
    "ring_radius = seam_radius * WD / (f1 - seam)"
   ]
  },
  {
   "cell_type": "code",
   "execution_count": 4,
   "metadata": {},
   "outputs": [
    {
     "name": "stdout",
     "output_type": "stream",
     "text": [
      "4.84813681109536e-06\n",
      "2.10250110774383\n",
      "1.0193213015901495e-05\n"
     ]
    }
   ],
   "source": [
    "# 1秒角分解能とは\n",
    "# 上流端の光軸点から焦点面で見込む角度の分解能が1秒\n",
    "\n",
    "resolution_deg = 1.0 / 3600\n",
    "resolution_rad = resolution_deg / 180 * math.pi\n",
    "\n",
    "print(resolution_rad)\n",
    "print(ML + WD)\n",
    "required_beam_radius = (ML + WD) * math.tan(resolution_rad)\n",
    "\n",
    "print(required_beam_radius)"
   ]
  },
  {
   "cell_type": "code",
   "execution_count": null,
   "metadata": {},
   "outputs": [],
   "source": []
  }
 ],
 "metadata": {
  "kernelspec": {
   "display_name": "Python 3",
   "language": "python",
   "name": "python3"
  },
  "language_info": {
   "codemirror_mode": {
    "name": "ipython",
    "version": 3
   },
   "file_extension": ".py",
   "mimetype": "text/x-python",
   "name": "python",
   "nbconvert_exporter": "python",
   "pygments_lexer": "ipython3",
   "version": "3.9.1"
  }
 },
 "nbformat": 4,
 "nbformat_minor": 4
}
