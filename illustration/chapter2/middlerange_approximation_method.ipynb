{
 "cells": [
  {
   "cell_type": "code",
   "execution_count": 2,
   "metadata": {},
   "outputs": [],
   "source": [
    "import sympy"
   ]
  },
  {
   "cell_type": "code",
   "execution_count": 7,
   "metadata": {},
   "outputs": [],
   "source": [
    "x, y, u, v, z = sympy.var('x y u v z')"
   ]
  },
  {
   "cell_type": "code",
   "execution_count": 20,
   "metadata": {},
   "outputs": [],
   "source": [
    "ra = z + 1/(2*z) * ((x-u)**2 + (y-v)**2) #\\\n",
    "    #- 1/(8*z**3) * ((x-u)**2 + (y-v)**2)**2\n",
    "rf = z + 1/(2*z) * (u**2 + v**2) #\\\n",
    "    #- 1/(8*z**3) * (u**2 + v**2)**2"
   ]
  },
  {
   "cell_type": "code",
   "execution_count": 21,
   "metadata": {},
   "outputs": [],
   "source": [
    "phase_normalized = ra - rf + z"
   ]
  },
  {
   "cell_type": "code",
   "execution_count": 22,
   "metadata": {},
   "outputs": [
    {
     "data": {
      "text/latex": [
       "$\\displaystyle \\frac{- u x - v y + \\frac{x^{2}}{2} + \\frac{y^{2}}{2} + z^{2}}{z}$"
      ],
      "text/plain": [
       "(-u*x - v*y + x**2/2 + y**2/2 + z**2)/z"
      ]
     },
     "execution_count": 22,
     "metadata": {},
     "output_type": "execute_result"
    }
   ],
   "source": [
    "sympy.simplify(sympy.expand(phase_normalized))"
   ]
  },
  {
   "cell_type": "code",
   "execution_count": 17,
   "metadata": {},
   "outputs": [
    {
     "data": {
      "text/latex": [
       "$\\displaystyle - \\frac{- 4 u^{3} x - 4 u^{2} v y + 6 u^{2} x^{2} + 2 u^{2} y^{2} - 4 u v^{2} x + 8 u v x y - 4 u x^{3} - 4 u x y^{2} + 8 u x z^{2} - 4 v^{3} y + 2 v^{2} x^{2} + 6 v^{2} y^{2} - 4 v x^{2} y - 4 v y^{3} + 8 v y z^{2} + x^{4} + 2 x^{2} y^{2} - 4 x^{2} z^{2} + y^{4} - 4 y^{2} z^{2} - 8 z^{4}}{8 z^{3}}$"
      ],
      "text/plain": [
       "-(-4*u**3*x - 4*u**2*v*y + 6*u**2*x**2 + 2*u**2*y**2 - 4*u*v**2*x + 8*u*v*x*y - 4*u*x**3 - 4*u*x*y**2 + 8*u*x*z**2 - 4*v**3*y + 2*v**2*x**2 + 6*v**2*y**2 - 4*v*x**2*y - 4*v*y**3 + 8*v*y*z**2 + x**4 + 2*x**2*y**2 - 4*x**2*z**2 + y**4 - 4*y**2*z**2 - 8*z**4)/(8*z**3)"
      ]
     },
     "execution_count": 17,
     "metadata": {},
     "output_type": "execute_result"
    }
   ],
   "source": [
    "sympy.separatevars(phase_normalized)"
   ]
  },
  {
   "cell_type": "code",
   "execution_count": 19,
   "metadata": {},
   "outputs": [
    {
     "data": {
      "text/latex": [
       "$\\displaystyle \\frac{8 z^{4} + 4 z^{2} \\left(- u^{2} - v^{2} + \\left(u - x\\right)^{2} + \\left(v - y\\right)^{2}\\right) + \\left(u^{2} + v^{2}\\right)^{2} - \\left(\\left(u - x\\right)^{2} + \\left(v - y\\right)^{2}\\right)^{2}}{8 z^{3}}$"
      ],
      "text/plain": [
       "(8*z**4 + 4*z**2*(-u**2 - v**2 + (u - x)**2 + (v - y)**2) + (u**2 + v**2)**2 - ((u - x)**2 + (v - y)**2)**2)/(8*z**3)"
      ]
     },
     "execution_count": 19,
     "metadata": {},
     "output_type": "execute_result"
    }
   ],
   "source": [
    "sympy.collect(sympy.simplify(phase_normalized), x)"
   ]
  },
  {
   "cell_type": "code",
   "execution_count": null,
   "metadata": {},
   "outputs": [],
   "source": []
  }
 ],
 "metadata": {
  "kernelspec": {
   "display_name": "Python 3",
   "language": "python",
   "name": "python3"
  },
  "language_info": {
   "codemirror_mode": {
    "name": "ipython",
    "version": 3
   },
   "file_extension": ".py",
   "mimetype": "text/x-python",
   "name": "python",
   "nbconvert_exporter": "python",
   "pygments_lexer": "ipython3",
   "version": "3.9.1"
  }
 },
 "nbformat": 4,
 "nbformat_minor": 4
}
