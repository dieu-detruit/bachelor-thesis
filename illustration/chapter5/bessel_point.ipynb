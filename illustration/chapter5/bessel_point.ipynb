{
 "cells": [
  {
   "cell_type": "code",
   "execution_count": 18,
   "metadata": {},
   "outputs": [],
   "source": [
    "import sympy\n",
    "import numpy as np"
   ]
  },
  {
   "cell_type": "code",
   "execution_count": 23,
   "metadata": {},
   "outputs": [],
   "source": [
    "sympy.init_printing()\n",
    "x = sympy.var('x')\n",
    "solution = sympy.solve (x**4 - 40*x**3 + 70*x**2 - 15, x)\n",
    "solution = np.array(solution)\n",
    "solution = solution[np.argmin(np.abs(solution - 0.55))]\n",
    "\n",
    "bessel_constant = abs(solution.evalf())"
   ]
  },
  {
   "cell_type": "code",
   "execution_count": 32,
   "metadata": {},
   "outputs": [
    {
     "name": "stdout",
     "output_type": "stream",
     "text": [
      "bessel_point: ± 61.531813049634714 mm\n"
     ]
    }
   ],
   "source": [
    "ML = 220e-3\n",
    "bessel_point = float(0.5 * bessel_constant * ML)\n",
    "print('bessel_point: ±', bessel_point * 1.0e+3, 'mm')"
   ]
  },
  {
   "cell_type": "code",
   "execution_count": 34,
   "metadata": {},
   "outputs": [
    {
     "name": "stdout",
     "output_type": "stream",
     "text": [
      "0.220309940683479\n"
     ]
    }
   ],
   "source": [
    "print(0.5 - 0.5 * bessel_constant)"
   ]
  },
  {
   "cell_type": "code",
   "execution_count": 37,
   "metadata": {},
   "outputs": [
    {
     "name": "stdout",
     "output_type": "stream",
     "text": [
      "0.2796900593165214\n"
     ]
    }
   ],
   "source": [
    "print(0.5 * float(bessel_constant))"
   ]
  },
  {
   "cell_type": "code",
   "execution_count": 38,
   "metadata": {},
   "outputs": [
    {
     "data": {
      "image/png": "[encoded data removed]",
      "text/latex": [
       "$\\displaystyle 0.2797$"
      ],
      "text/plain": [
       "0.2797"
      ]
     },
     "execution_count": 38,
     "metadata": {},
     "output_type": "execute_result"
    }
   ],
   "source": [
    "0.5 - 0.2203"
   ]
  },
  {
   "cell_type": "code",
   "execution_count": null,
   "metadata": {},
   "outputs": [],
   "source": []
  }
 ],
 "metadata": {
  "kernelspec": {
   "display_name": "Python 3",
   "language": "python",
   "name": "python3"
  },
  "language_info": {
   "codemirror_mode": {
    "name": "ipython",
    "version": 3
   },
   "file_extension": ".py",
   "mimetype": "text/x-python",
   "name": "python",
   "nbconvert_exporter": "python",
   "pygments_lexer": "ipython3",
   "version": "3.8.6"
  }
 },
 "nbformat": 4,
 "nbformat_minor": 4
}
