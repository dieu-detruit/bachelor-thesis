{
 "cells": [
  {
   "cell_type": "code",
   "execution_count": 4,
   "metadata": {},
   "outputs": [],
   "source": [
    "import math\n",
    "\n",
    "a = 1000.05624604543e-3\n",
    "b = 10.6068254211646e-3\n",
    "\n",
    "f1 = 0.0e-3\n",
    "f2 = f1 + 2.0 * math.sqrt(a * a + b * b)\n",
    "\n",
    "# parabola part\n",
    "p = 0.0562460454334836e-3\n",
    "\n",
    "# whole mirror\n",
    "WD = 1902.50110774383e-3\n",
    "ML = 200.0e-3\n",
    "\n",
    "param1 = 1.0 / (a * a)\n",
    "param2 = -(f1 + f2) / (a * a) + 4.0 * p / (b * b)\n",
    "param3 = math.pow(f1 + f2, 2) / (4.0 * a * a) - 4.0 * p * (p + f2) / (b * b) - 1.0\n",
    "seam = (-param2 - math.sqrt(param2**2 - 4.0 * param1 * param3)) / (2.0 * param1)\n",
    "\n",
    "def parabola(z):\n",
    "    return math.sqrt(-4.0 * p * (z - p - f2))\n",
    "def hyperbola(z):\n",
    "    return b * math.sqrt((z - (f1 + f2) / 2)**2 / a**2 - 1.0)\n",
    "\n",
    "entrance_radius = parabola(f1 - WD - ML)\n",
    "seam_radius = parabola(seam)\n",
    "exit_radius = hyperbola(f1 - WD)\n",
    "ring_radius = seam_radius * WD / (f1 - seam)"
   ]
  },
  {
   "cell_type": "code",
   "execution_count": 5,
   "metadata": {},
   "outputs": [
    {
     "data": {
      "text/plain": [
       "0.057438377513794395"
      ]
     },
     "execution_count": 5,
     "metadata": {},
     "output_type": "execute_result"
    }
   ],
   "source": [
    "exit_radius + ring_radius"
   ]
  },
  {
   "cell_type": "code",
   "execution_count": 8,
   "metadata": {},
   "outputs": [
    {
     "name": "stdout",
     "output_type": "stream",
     "text": [
      "exit_radius : 0.028900860897701938\n",
      "ring_radius : 0.028537516616092457\n",
      "seam_radius : 0.030000000000022727\n",
      "entrance_radius : 0.030381921069158307\n",
      "ring_thickness : 0.00036334428160948035\n",
      "(ring_radius + exit_radius) / 2 : 0.028719188756897197\n"
     ]
    }
   ],
   "source": [
    "wavelength = 600.0e-9\n",
    "k = 2.0 * math.pi / wavelength\n",
    "\n",
    "a = 1000.05624604543e-3\n",
    "b = 10.6068254211646e-3\n",
    "\n",
    "f1 = 0.0\n",
    "f2 = f1 + 2.0 * math.hypot(a, b)\n",
    "\n",
    "# parabola part\n",
    "p = 0.0562460454334836e-3\n",
    "\n",
    "# whole mirror\n",
    "WD = 1902.50110774383e-3\n",
    "ML = 200.0e-3\n",
    "\n",
    "# 接合点を求める2次方程式\n",
    "param1 = a**-2\n",
    "param2 = -(f1 + f2) / a**2 + 4 * p / b**2\n",
    "param3 = (f1 + f2)**2 / (4 * a**2) - 4 * p * (p + f2) / b**2 - 1.0\n",
    "seam = (-param2 - math.sqrt(param2**2 - 4.0 * param1 * param3)) / (2.0 * param1)\n",
    "\n",
    "# xy plane params\n",
    "entrance_radius = math.sqrt(-4 * p * (f1 - WD - ML - p - f2))\n",
    "seam_radius = math.sqrt(-4 * p * (seam - p - f2))\n",
    "exit_radius = b * math.sqrt((f1 - WD - (f1 + f2) / 2)**2 / a**2 - 1.0)\n",
    "ring_radius = seam_radius * WD / (f1 - seam)\n",
    "\n",
    "ring_thickness = exit_radius - ring_radius\n",
    "\n",
    "# equipment params\n",
    "ccd_num = 4096\n",
    "\n",
    "def print_param(x):\n",
    "    print(x, ':', eval(x))\n",
    "\n",
    "print_param('exit_radius')\n",
    "print_param('ring_radius')\n",
    "print_param('seam_radius')\n",
    "print_param('entrance_radius')\n",
    "print_param('ring_thickness')\n",
    "print_param('(ring_radius + exit_radius) / 2')"
   ]
  },
  {
   "cell_type": "code",
   "execution_count": null,
   "metadata": {},
   "outputs": [],
   "source": []
  }
 ],
 "metadata": {
  "kernelspec": {
   "display_name": "Python 3",
   "language": "python",
   "name": "python3"
  },
  "language_info": {
   "codemirror_mode": {
    "name": "ipython",
    "version": 3
   },
   "file_extension": ".py",
   "mimetype": "text/x-python",
   "name": "python",
   "nbconvert_exporter": "python",
   "pygments_lexer": "ipython3",
   "version": "3.9.1"
  }
 },
 "nbformat": 4,
 "nbformat_minor": 4
}
