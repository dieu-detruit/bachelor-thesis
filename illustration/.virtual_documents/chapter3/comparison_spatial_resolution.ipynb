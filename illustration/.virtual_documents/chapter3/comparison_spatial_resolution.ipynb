import numpy as np
import matplotlib.pyplot as plt
import PIL.Image as Image
import math


wavelength = 632.8e-9
k = 2.0 * math.pi / wavelength

a = 1000.05624604543e-3
b = 10.6068254211646e-3

f1 = 0.0
f2 = f1 + 2.0 * math.hypot(a, b)

# parabola part
p = 0.0562460454334836e-3

# whole mirror
WD = 1902.50110774383e-3
ML = 200.0e-3

# 接合点を求める2次方程式
param1 = a**-2
param2 = -(f1 + f2) / a**2 + 4 * p / b**2
param3 = (f1 + f2)**2 / (4 * a**2) - 4 * p * (p + f2) / b**2 - 1.0
seam = (-param2 - math.sqrt(param2**2 - 4.0 * param1 * param3)) / (2.0 * param1)

# xy plane params
entrance_radius = math.sqrt(-4 * p * (f1 - WD - ML - p - f2))
seam_radius = math.sqrt(-4 * p * (seam - p - f2))
exit_radius = b * math.sqrt((f1 - WD - (f1 + f2) / 2)**2 / a**2 - 1.0)
ring_radius = seam_radius * WD / (f1 - seam)

ring_thickness = exit_radius - ring_radius

# equipment params
ccd_num = 4096

def print_param(x):
    print(x, ':', eval(x))

print_param('exit_radius')
print_param('ring_radius')
print_param('seam_radius')
print_param('entrance_radius')
print_param('ring_thickness')
print(30.0 - (exit_radius - ring_radius))


ccd_pitch = 9.0e-6
detector_length = ccd_pitch * ccd_num


# 焦点面にカメラを置く方法

exit_pixel_size = wavelength * WD / detector_length
print_param('exit_pixel_size')
print_param('ring_thickness / exit_pixel_size')


# 焦点面にオブジェクトを置く方法

focus_length = detector_length # 焦点面にカメラを置く方法に合わせる
least_N = 2.0 * exit_radius / exit_pixel_size
#CD = focus_length * ccd_pitch / wavelength



# CCDが明視野に覆われる最小のカメラ長
CD = (0.5 * detector_length) / exit_radius * WD

#sin_theta = 1.22 * wavelength / pinhole_diameter
#CD * tan(asin(1.22 * wavelength / pinhole_diameter)) = 0.5 * detector_length
#asin(1.22 * wavelength / pinhole_diameter) = atan(0.5 * detector_length / CD)
#asin(1.22 * wavelength / pinhole_diameter) = atan(0.5 * detector_length / CD)
#1.22 * wavelength / pinhole_diameter = sin(atan(0.5 * detector_length / CD))
#ccd_pitch / CD = 1.22 * wavelength * 

#max_focus_pixel_size = WD * wavelength / (2.0 * exit_radius)
#max_focus_pixel_size = CD * wavelength / detector_length
#CD = max_focus_pixel_size * detector_length / wavelength

#pinhole_diameter = 1.0e-3
pinhole_diameter = 0.2e-3
oversampling_ratio = 0.6
scan_step = pinhole_diameter * (1.0 - oversampling_ratio)

scan_num = (focus_length / scan_step) ** 2

print_param('focus_length')
print_param('least_N')
print_param('focus_pixel_size')
print_param('CD')
print_param('scan_step')
print_param('scan_num')



