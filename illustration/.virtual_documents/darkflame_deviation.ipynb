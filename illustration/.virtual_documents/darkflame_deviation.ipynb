import numpy as np
import matplotlib.pyplot as plt
import math


import glob

darkflame_files = glob.glob('../../data/darkflame_noise/*.dat')


darkflames = [np.fromfile(darkflame_file, dtype=np.uint16) for darkflame_file in darkflame_files]
N = int(math.sqrt(darkflames[0].shape[0]))
darkflame_num = len(darkflames)
darkflames = np.array([df.reshape((N, N)) for df in darkflames])


average = np.sum(darkflames, axis=0) / darkflame_num
average.shape


# 平均化されたダークフレーム内での話

print(np.max(average))
print(np.min(average))
print(np.mean(average))
print(np.median(average))
average_mean = np.mean(average)
average_variance = np.mean((average - average_mean)**2)
average_deviation = math.sqrt(average_variance)
print(average_variance)
print(average_deviation)

fig = plt.figure(figsize=(10, 8))
average_ravel = average.ravel()
plt.plot(average_ravel)
fig.savefig('../../thesis/chap5/figure/darkflame_average_ravel.png')


plt.figure(figsize=(10, 8))
plt.hist(average_ravel[average_ravel < 1200])
fig.savefig('../../thesis/chap5/figure/darkflame_average_histogram.png')


# 15枚全体でのダークフレームのランダムエラーについての話

variance = np.mean((darkflames - average)**2, axis=0)
deviation = np.sqrt(variance)

print(np.max(deviation))
print(np.mean(deviation))
print(np.min(deviation))


for darkflame in darkflames:
    print(darkflame.ravel()[np.argmax(deviation)])


for darkflame in darkflames:
    print(np.mean(darkflame))



