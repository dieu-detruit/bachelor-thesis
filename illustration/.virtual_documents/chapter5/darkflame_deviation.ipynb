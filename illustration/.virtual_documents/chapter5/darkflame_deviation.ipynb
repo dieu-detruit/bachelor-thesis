import numpy as np
import matplotlib.pyplot as plt
import math


import glob

darkflame_files = glob.glob('../../data/darkflame_noise/*.dat')


darkflames = [np.fromfile(darkflame_file, dtype=np.uint16) for darkflame_file in darkflame_files]
N = int(math.sqrt(darkflames[0].shape[0]))
darkflame_num = len(darkflames)
darkflames = np.array([df.reshape((N, N)) for df in darkflames])


average = np.sum(darkflames, axis=0) / darkflame_num
average.shape


# 平均化されたダークフレーム内での話

print(np.max(average))
print(np.min(average))
print(np.mean(average))
print(np.median(average))
average_mean = np.mean(average)
average_variance = np.mean((average - average_mean)**2)
average_deviation = math.sqrt(average_variance)
print(average_variance)
print(average_deviation)
print(np.sum(average > 10000))

fig = plt.figure(figsize=(10, 8))
average_ravel = average.ravel()
plt.plot(average_ravel)
plt.ylabel('Intensity[/]', fontsize=24)
plt.xlabel('Flattened Position [px]', fontsize=24)
plt.tick_params(labelsize=16)
fig.savefig('../../thesis/chap5/figure/darkflame_average_ravel.png')


fig = plt.figure(figsize=(10, 8))
plt.hist(average_ravel[average_ravel < 1200])
plt.ylabel('Frequency', fontsize=24)
plt.xlabel('Intensity [/]', fontsize=24)
plt.tick_params(labelsize=16)
fig.savefig('../../thesis/chap5/figure/darkflame_average_histogram.png')


# 15枚全体でのダークフレームのランダムエラーについての話

variance = np.mean((darkflames - average)**2, axis=0)
deviation = np.sqrt(variance)

print(np.max(deviation))
print(np.min(deviation))
print(np.mean(deviation))
print(np.median(deviation))
print(math.sqrt(np.mean(np.abs(deviation - np.mean(deviation))**2)))


fig = plt.figure(figsize=(10, 8))
deviation_ravel = deviation.ravel()
plt.plot(deviation_ravel)
plt.ylabel('Intensity[/]', fontsize=24)
plt.xlabel('Flattened Position [px]', fontsize=24)
plt.tick_params(labelsize=16)
fig.savefig('../../thesis/chap5/figure/darkflame_deviation_ravel.png')


fig = plt.figure(figsize=(10, 8))
plt.hist(deviation_ravel[deviation_ravel < 50])
plt.ylabel('Frequency', fontsize=24)
plt.xlabel('Intensity [/]', fontsize=24)
plt.tick_params(labelsize=16)
fig.savefig('../../thesis/chap5/figure/darkflame_deviation_histogram.png')


for darkflame in darkflames:
    print(darkflame.ravel()[np.argmax(deviation)])


for darkflame in darkflames:
    print(np.mean(darkflame))


#average[average > 30000]
deviation[average > 10000] / average[average > 10000]



