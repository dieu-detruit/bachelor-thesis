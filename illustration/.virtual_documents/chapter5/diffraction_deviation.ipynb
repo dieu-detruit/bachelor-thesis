import numpy as np
import matplotlib.pyplot as plt
import math


import glob

diffraction_files = glob.glob('../../data/diffraction_noise/*.dat')


diffractions = [np.fromfile(diffraction_file, dtype=np.uint16) for diffraction_file in diffraction_files]
N = int(math.sqrt(diffractions[0].shape[0]))
diffraction_num = len(diffractions)
diffractions = np.array([df.reshape((N, N)) for df in diffractions])


K = 1320

plt.figure(figsize=(8, 8))
plt.imshow(diffractions[0][(N//2-K//2):(N//2+K//2), (N//2-K//2):(N//2+K//2)])


diffractions = [diffraction[(N//2-K//2):(N//2+K//2), (N//2-K//2):(N//2+K//2)] for diffraction in diffractions]


average = np.sum(diffractions, axis=0) / diffraction_num
print(average.shape)

plt.figure(figsize=(8, 8))
plt.imshow(average)


# 平均化された回折パターンを見る

print(np.max(average))
print(np.min(average))
print(np.mean(average))
print(np.median(average))
average_mean = np.mean(average)
average_variance = np.mean((average - average_mean)**2)
average_deviation = math.sqrt(average_variance)
print(average_variance)
print(average_deviation)
print(np.sum(average > 10000))

fig = plt.figure(figsize=(10, 8))
average_ravel = average.ravel()
plt.plot(average_ravel)
plt.ylabel('Intensity[/]', fontsize=24)
plt.xlabel('Flattened Position [px]', fontsize=24)
plt.tick_params(labelsize=16)
#fig.savefig('../../thesis/chap5/figure/diffraction_average_ravel.png')


fig = plt.figure(figsize=(10, 8))
plt.hist(average_ravel[average_ravel < 1200])
plt.ylabel('Frequency', fontsize=24)
plt.xlabel('Intensity [/]', fontsize=24)
plt.tick_params(labelsize=16)
#fig.savefig('../../thesis/chap5/figure/diffraction_average_histogram.png')


# 15枚全体でのダークフレームのランダムエラーについての話

variance = np.mean((diffractions - average)**2, axis=0)
deviation = np.sqrt(variance)

print(np.max(deviation))
print(np.min(deviation))
print(np.mean(deviation))
print(np.median(deviation))
print(math.sqrt(np.mean(np.abs(deviation - np.mean(deviation))**2)))


fig = plt.figure(figsize=(10, 8))
deviation_ravel = deviation.ravel()
plt.plot(deviation_ravel)
plt.ylabel('Intensity[/]', fontsize=24)
plt.xlabel('Flattened Position [px]', fontsize=24)
plt.tick_params(labelsize=16)
fig.savefig('../../thesis/chap5/figure/diffraction_deviation_ravel.png')


fig = plt.figure(figsize=(10, 8))
deviation_ravel = deviation.ravel()
plt.plot(average_ravel)
plt.plot(deviation_ravel)
plt.ylabel('Intensity[/]', fontsize=24)
plt.xlabel('Flattened Position [px]', fontsize=24)
plt.tick_params(labelsize=16)
#fig.savefig('../../thesis/chap5/figure/diffraction_deviation_average_comparison.png')


fig = plt.figure(figsize=(10, 8))
deviation_ravel = deviation.ravel()
plt.plot(deviation_ravel[average_ravel > 5000] / average_ravel[average_ravel > 5000])
plt.ylabel('Intensity[/]', fontsize=24)
plt.xlabel('Flattened Position [px]', fontsize=24)
plt.tick_params(labelsize=16)
#fig.savefig('../../thesis/chap5/figure/diffraction_deviation_average_comparison.png')


fig = plt.figure(figsize=(10, 8))
#plt.hist(deviation_ravel[deviation_ravel < 50])
plt.hist(deviation_ravel)
plt.ylabel('Frequency', fontsize=24)
plt.xlabel('Intensity [/]', fontsize=24)
plt.tick_params(labelsize=16)
fig.savefig('../../thesis/chap5/figure/diffraction_deviation_histogram.png')


for diffraction in diffractions:
    print(diffraction.ravel()[np.argmax(deviation)])


for diffraction in diffractions:
    print(np.mean(diffraction))


#average[average > 30000]
deviation[average > 10000] / average[average > 10000]



